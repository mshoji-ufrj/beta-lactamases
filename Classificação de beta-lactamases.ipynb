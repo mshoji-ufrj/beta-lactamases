{
 "cells": [
  {
   "cell_type": "markdown",
   "metadata": {},
   "source": [
    "# Classificação de genes codificantes de beta-lactamases utilizando rede neural recorrente"
   ]
  },
  {
   "cell_type": "code",
   "execution_count": 1,
   "id": "11eb2f7a",
   "metadata": {},
   "outputs": [],
   "source": [
    "import numpy as np\n",
    "np.random.seed(1)\n",
    "import os\n",
    "os.environ['TF_CPP_MIN_LOG_LEVEL'] = '3'\n",
    "import tensorflow as tf\n",
    "tf.random.set_seed(1)\n",
    "session_conf = tf.compat.v1.ConfigProto(intra_op_parallelism_threads=1, inter_op_parallelism_threads=1)\n",
    "import random as rn\n",
    "rn.seed(1)\n",
    "os.environ['PYTHONHASHSEED'] = '1'\n",
    "from Bio import SeqIO\n",
    "from collections import Counter\n",
    "import csv\n",
    "import pandas as pd\n",
    "import sklearn\n",
    "from sklearn.metrics import confusion_matrix, classification_report, ConfusionMatrixDisplay\n",
    "import matplotlib.pyplot as plt\n",
    "import warnings\n",
    "warnings.filterwarnings('ignore')\n",
    "warnings.simplefilter('ignore')"
   ]
  },
  {
   "cell_type": "markdown",
   "id": "2b2632e4",
   "metadata": {},
   "source": [
    "# Banco de dados"
   ]
  },
  {
   "cell_type": "code",
   "execution_count": 2,
   "id": "787412a9",
   "metadata": {},
   "outputs": [],
   "source": [
    "classA = 'Class A betalactamases'\n",
    "classB = 'Class B betalactamases'\n",
    "classC = 'Class C betalactamases'\n",
    "classD = 'Class D betalactamases'"
   ]
  },
  {
   "cell_type": "code",
   "execution_count": 3,
   "id": "0ed362dd",
   "metadata": {},
   "outputs": [],
   "source": [
    "def split_train_test_valid(seq_code,seq_class,x1,x2):\n",
    "    idx0 = round(x1*len(seq_code))\n",
    "    idx1 = round((x1+x2)*len(seq_code))\n",
    "    (seq_code, seq_class) = sklearn.utils.shuffle(seq_code, seq_class, random_state=0)\n",
    "    train_x = seq_code[0:idx0]\n",
    "    train_y = seq_class[0:idx0]\n",
    "    test_x = seq_code[idx0:idx1]\n",
    "    test_y = seq_class[idx0:idx1]\n",
    "    valid_x = seq_code[idx1:]\n",
    "    valid_y = seq_class[idx1:]\n",
    "    return(train_x,train_y,test_x,test_y,valid_x,valid_y)\n"
   ]
  },
  {
   "cell_type": "code",
   "execution_count": 4,
   "id": "b5bbb056",
   "metadata": {},
   "outputs": [],
   "source": [
    "def letter2code(sequences):\n",
    "    dict_ = {'A': 1, 'B': 2, 'C': 3, 'D': 4, 'E': 5, 'F': 6, 'G': 7, 'H': 8, 'I': 9, 'J': 10, \n",
    "             'K': 11, 'L': 12, 'M': 13, 'N': 14, 'O': 15, 'P': 16, 'Q': 17, 'R': 18, 'S': 19, \n",
    "             'T': 20, 'U': 21, 'V': 22, 'W': 23, 'Y': 24, 'Z': 25, 'X': 26, '*': 0, '-': 0}\n",
    "    seq_code = []\n",
    "    seq_len = []\n",
    "    for i in sequences:\n",
    "        j = []\n",
    "        for letter in i:\n",
    "            j.append(dict_.get(letter))\n",
    "        seq_code.append(j)\n",
    "        seq_len.append(len(j))\n",
    "    seq_code = np.array(seq_code, dtype=object)\n",
    "    seq_len = np.array(seq_len)\n",
    "    return seq_code, seq_len"
   ]
  },
  {
   "cell_type": "code",
   "execution_count": 5,
   "id": "3979cc71",
   "metadata": {},
   "outputs": [],
   "source": [
    "def get_key_from_value(d, val):\n",
    "    keys = [k for k, v in d.items() if v == val]\n",
    "    if keys:\n",
    "        return keys[0]\n",
    "    return None"
   ]
  },
  {
   "cell_type": "code",
   "execution_count": 6,
   "id": "504c6fe9",
   "metadata": {},
   "outputs": [],
   "source": [
    "def code2letter(sequences):\n",
    "    dict_ = {'A': 1, 'B': 2, 'C': 3, 'D': 4, 'E': 5, 'F': 6, 'G': 7, 'H': 8, 'I': 9, 'J': 10, \n",
    "             'K': 11, 'L': 12, 'M': 13, 'N': 14, 'O': 15, 'P': 16, 'Q': 17, 'R': 18, 'S': 19, \n",
    "             'T': 20, 'U': 21, 'V': 22, 'W': 23, 'Y': 24, 'Z': 25, 'X': 26, '*': 0, '-': 0}\n",
    "    seq_code = []\n",
    "    seq_len = []\n",
    "    for i in sequences:\n",
    "        j = ''\n",
    "        for number in i:\n",
    "            j+=str(get_key_from_value(dict_,number))\n",
    "        seq_code.append(j)\n",
    "        seq_len.append(len(j))\n",
    "    #seq_code = np.array(seq_code, dtype=object)\n",
    "    #seq_len = np.array(seq_len)\n",
    "    return seq_code, seq_len"
   ]
  },
  {
   "cell_type": "markdown",
   "id": "e4a95647",
   "metadata": {},
   "source": [
    "### MEGARes 2.0"
   ]
  },
  {
   "cell_type": "code",
   "execution_count": 7,
   "id": "1e3cdfc6",
   "metadata": {},
   "outputs": [
    {
     "data": {
      "text/html": [
       "<div>\n",
       "<style scoped>\n",
       "    .dataframe tbody tr th:only-of-type {\n",
       "        vertical-align: middle;\n",
       "    }\n",
       "\n",
       "    .dataframe tbody tr th {\n",
       "        vertical-align: top;\n",
       "    }\n",
       "\n",
       "    .dataframe thead th {\n",
       "        text-align: right;\n",
       "    }\n",
       "</style>\n",
       "<table border=\"1\" class=\"dataframe\">\n",
       "  <thead>\n",
       "    <tr style=\"text-align: right;\">\n",
       "      <th></th>\n",
       "      <th>header</th>\n",
       "      <th>type</th>\n",
       "      <th>class</th>\n",
       "      <th>mechanism</th>\n",
       "      <th>group</th>\n",
       "    </tr>\n",
       "  </thead>\n",
       "  <tbody>\n",
       "    <tr>\n",
       "      <th>0</th>\n",
       "      <td>MEG_372|Multi-compound|Drug_and_biocide_resist...</td>\n",
       "      <td>Drugs</td>\n",
       "      <td>Multi-drug resistance</td>\n",
       "      <td>Multi-drug MATE efflux pumps</td>\n",
       "      <td>ABEM</td>\n",
       "    </tr>\n",
       "    <tr>\n",
       "      <th>1</th>\n",
       "      <td>MEG_373|Multi-compound|Drug_and_biocide_resist...</td>\n",
       "      <td>Drugs</td>\n",
       "      <td>Multi-drug resistance</td>\n",
       "      <td>Multi-drug MATE efflux pumps</td>\n",
       "      <td>ABEM</td>\n",
       "    </tr>\n",
       "    <tr>\n",
       "      <th>2</th>\n",
       "      <td>MEG_374|Multi-compound|Drug_and_biocide_resist...</td>\n",
       "      <td>Drugs</td>\n",
       "      <td>Multi-drug resistance</td>\n",
       "      <td>Multi-drug SMR efflux pumps</td>\n",
       "      <td>ABES</td>\n",
       "    </tr>\n",
       "    <tr>\n",
       "      <th>3</th>\n",
       "      <td>MEG_375|Multi-compound|Drug_and_biocide_resist...</td>\n",
       "      <td>Drugs</td>\n",
       "      <td>Multi-drug resistance</td>\n",
       "      <td>Multi-drug SMR efflux pumps</td>\n",
       "      <td>ABES</td>\n",
       "    </tr>\n",
       "    <tr>\n",
       "      <th>4</th>\n",
       "      <td>MEG_376|Multi-compound|Drug_and_biocide_resist...</td>\n",
       "      <td>Drugs</td>\n",
       "      <td>Multi-drug resistance</td>\n",
       "      <td>Multi-drug SMR efflux pumps</td>\n",
       "      <td>ABES</td>\n",
       "    </tr>\n",
       "    <tr>\n",
       "      <th>...</th>\n",
       "      <td>...</td>\n",
       "      <td>...</td>\n",
       "      <td>...</td>\n",
       "      <td>...</td>\n",
       "      <td>...</td>\n",
       "    </tr>\n",
       "    <tr>\n",
       "      <th>7121</th>\n",
       "      <td>MEG_7807|Drugs|betalactams|Class_A_betalactama...</td>\n",
       "      <td>Drugs</td>\n",
       "      <td>betalactams</td>\n",
       "      <td>Class A betalactamases</td>\n",
       "      <td>WHH</td>\n",
       "    </tr>\n",
       "    <tr>\n",
       "      <th>7122</th>\n",
       "      <td>MEG_7840|Drugs|Lipopeptides|Defensin-resistant...</td>\n",
       "      <td>Drugs</td>\n",
       "      <td>Lipopeptides</td>\n",
       "      <td>Defensin-resistant mutant</td>\n",
       "      <td>YKKCL</td>\n",
       "    </tr>\n",
       "    <tr>\n",
       "      <th>7123</th>\n",
       "      <td>MEG_7843|Drugs|Lipopeptides|Daptomycin-resista...</td>\n",
       "      <td>Drugs</td>\n",
       "      <td>Lipopeptides</td>\n",
       "      <td>Daptomycin-resistant mutant</td>\n",
       "      <td>YYBT</td>\n",
       "    </tr>\n",
       "    <tr>\n",
       "      <th>7124</th>\n",
       "      <td>MEG_7844|Drugs|Glycopeptides|Bleomycin_resista...</td>\n",
       "      <td>Drugs</td>\n",
       "      <td>Glycopeptides</td>\n",
       "      <td>Bleomycin resistance protein</td>\n",
       "      <td>ZBMA</td>\n",
       "    </tr>\n",
       "    <tr>\n",
       "      <th>7125</th>\n",
       "      <td>MEG_7860|Drugs|betalactams|Class_B_betalactama...</td>\n",
       "      <td>Drugs</td>\n",
       "      <td>betalactams</td>\n",
       "      <td>Class B betalactamases</td>\n",
       "      <td>ZOG</td>\n",
       "    </tr>\n",
       "  </tbody>\n",
       "</table>\n",
       "<p>7126 rows × 5 columns</p>\n",
       "</div>"
      ],
      "text/plain": [
       "                                                 header   type  \\\n",
       "0     MEG_372|Multi-compound|Drug_and_biocide_resist...  Drugs   \n",
       "1     MEG_373|Multi-compound|Drug_and_biocide_resist...  Drugs   \n",
       "2     MEG_374|Multi-compound|Drug_and_biocide_resist...  Drugs   \n",
       "3     MEG_375|Multi-compound|Drug_and_biocide_resist...  Drugs   \n",
       "4     MEG_376|Multi-compound|Drug_and_biocide_resist...  Drugs   \n",
       "...                                                 ...    ...   \n",
       "7121  MEG_7807|Drugs|betalactams|Class_A_betalactama...  Drugs   \n",
       "7122  MEG_7840|Drugs|Lipopeptides|Defensin-resistant...  Drugs   \n",
       "7123  MEG_7843|Drugs|Lipopeptides|Daptomycin-resista...  Drugs   \n",
       "7124  MEG_7844|Drugs|Glycopeptides|Bleomycin_resista...  Drugs   \n",
       "7125  MEG_7860|Drugs|betalactams|Class_B_betalactama...  Drugs   \n",
       "\n",
       "                      class                     mechanism  group  \n",
       "0     Multi-drug resistance  Multi-drug MATE efflux pumps   ABEM  \n",
       "1     Multi-drug resistance  Multi-drug MATE efflux pumps   ABEM  \n",
       "2     Multi-drug resistance   Multi-drug SMR efflux pumps   ABES  \n",
       "3     Multi-drug resistance   Multi-drug SMR efflux pumps   ABES  \n",
       "4     Multi-drug resistance   Multi-drug SMR efflux pumps   ABES  \n",
       "...                     ...                           ...    ...  \n",
       "7121            betalactams        Class A betalactamases    WHH  \n",
       "7122           Lipopeptides     Defensin-resistant mutant  YKKCL  \n",
       "7123           Lipopeptides   Daptomycin-resistant mutant   YYBT  \n",
       "7124          Glycopeptides  Bleomycin resistance protein   ZBMA  \n",
       "7125            betalactams        Class B betalactamases    ZOG  \n",
       "\n",
       "[7126 rows x 5 columns]"
      ]
     },
     "execution_count": 7,
     "metadata": {},
     "output_type": "execute_result"
    }
   ],
   "source": [
    "df = pd.read_csv('Dados/megares/megares_drugs_annotations_v2.00.csv')\n",
    "df"
   ]
  },
  {
   "cell_type": "code",
   "execution_count": 8,
   "id": "f6f8f0dc",
   "metadata": {},
   "outputs": [],
   "source": [
    "df0 = df[df['mechanism']==classA]\n",
    "df1 = df[df['mechanism']==classB]\n",
    "df2 = df[df['mechanism']==classC]\n",
    "df3 = df[df['mechanism']==classD]\n"
   ]
  },
  {
   "cell_type": "code",
   "execution_count": 9,
   "id": "c1f31691",
   "metadata": {},
   "outputs": [],
   "source": [
    "header = [list(df0['header']),\n",
    "          list(df1['header']),\n",
    "          list(df2['header']),\n",
    "          list(df3['header'])]\n"
   ]
  },
  {
   "cell_type": "code",
   "execution_count": 10,
   "id": "32d29887",
   "metadata": {},
   "outputs": [],
   "source": [
    "file = \"Dados/megares/megares_drugs_database_v2.00.fasta\"\n",
    "output_file = \"Dados/megares/megares_drugs_database_v2.00_amino_acids.fasta\"\n",
    "\n",
    "input_handle = open(file, \"r\")\n",
    "output_handle = open(output_file, \"w\")\n",
    "\n",
    "for i in SeqIO.parse(input_handle, \"fasta\"):\n",
    "    output_handle.write(\">%s\\n%s\\n\" % (i.id,i.seq.translate()))\n"
   ]
  },
  {
   "cell_type": "code",
   "execution_count": 11,
   "id": "22155404",
   "metadata": {},
   "outputs": [],
   "source": [
    "file = \"Dados/megares/megares_drugs_database_v2.00_amino_acids.fasta\"\n",
    "fa = SeqIO.parse(file, \"fasta\")\n",
    "\n",
    "seq = [[],[],[],[]]\n",
    "seq_id = [[],[],[],[]]\n",
    "\n",
    "for i in fa:\n",
    "    if i.id in header[0]:\n",
    "        seq[0].append(str(i.seq))\n",
    "        seq_id[0].append(str(i.id))\n",
    "\n",
    "    if i.id in header[1]:\n",
    "        seq[1].append(str(i.seq))\n",
    "        seq_id[1].append(str(i.id))\n",
    "    \n",
    "    if i.id in header[2]:\n",
    "        seq[2].append(str(i.seq))\n",
    "        seq_id[2].append(str(i.id))\n",
    "\n",
    "    if i.id in header[3]:\n",
    "        seq[3].append(str(i.seq))\n",
    "        seq_id[3].append(str(i.id))\n",
    "\n",
    "seq_class = [np.zeros(len(seq[0])),\n",
    "             1*np.ones(len(seq[1])),\n",
    "             2*np.ones(len(seq[2])),\n",
    "             3*np.ones(len(seq[3]))]\n"
   ]
  },
  {
   "cell_type": "code",
   "execution_count": 12,
   "id": "c8c4951e",
   "metadata": {},
   "outputs": [
    {
     "name": "stdout",
     "output_type": "stream",
     "text": [
      "0 Class A betalactamases 1579\n",
      "1 Class B betalactamases 409\n",
      "2 Class C betalactamases 950\n",
      "3 Class D betalactamases 900\n"
     ]
    }
   ],
   "source": [
    "print(\"0\",classA,len(seq[0]))\n",
    "print(\"1\",classB,len(seq[1]))\n",
    "print(\"2\",classC,len(seq[2]))\n",
    "print(\"3\",classD,len(seq[3]))"
   ]
  },
  {
   "cell_type": "code",
   "execution_count": 13,
   "id": "cbe07b41",
   "metadata": {
    "scrolled": false
   },
   "outputs": [
    {
     "data": {
      "text/plain": [
       "907"
      ]
     },
     "execution_count": 13,
     "metadata": {},
     "output_type": "execute_result"
    }
   ],
   "source": [
    "seq_code = [[],[],[],[]]\n",
    "seq_len = [[],[],[],[]]\n",
    "for i in range(len(seq)):\n",
    "    seq_code[i],seq_len[i] = letter2code(seq[i])\n",
    "    \n",
    "max_len = max(np.max(seq_len[0]),np.max(seq_len[1]),np.max(seq_len[2]),np.max(seq_len[3]))\n",
    "max_len"
   ]
  },
  {
   "cell_type": "code",
   "execution_count": 14,
   "id": "4c0d07ec",
   "metadata": {},
   "outputs": [
    {
     "data": {
      "image/png": "[encoded data removed]",
      "text/plain": [
       "<Figure size 640x480 with 1 Axes>"
      ]
     },
     "metadata": {},
     "output_type": "display_data"
    }
   ],
   "source": [
    "plt.figure()\n",
    "hist = plt.hist(np.concatenate((seq_len[0],seq_len[1],seq_len[2],seq_len[3])),bins=50)\n",
    "plt.xlabel('Tamanho da sequência')\n",
    "plt.ylabel('Quantidade')\n",
    "plt.title('Histograma\\nMEGARes')\n",
    "plt.savefig('Figuras/histograma_megares.png')"
   ]
  },
  {
   "cell_type": "code",
   "execution_count": 15,
   "id": "7668e4c6",
   "metadata": {},
   "outputs": [],
   "source": [
    "train_x = [[],[],[],[]]\n",
    "train_y = [[],[],[],[]]\n",
    "test_x = [[],[],[],[]]\n",
    "test_y = [[],[],[],[]]\n",
    "valid_x = [[],[],[],[]]\n",
    "valid_y = [[],[],[],[]]\n",
    "\n",
    "for i in range(len(seq_code)):\n",
    "    train_x[i],train_y[i],test_x[i],test_y[i],valid_x[i],valid_y[i] = split_train_test_valid(seq_code[i],\n",
    "                                                                                             seq_class[i],\n",
    "                                                                                             0.70,0.15)\n"
   ]
  },
  {
   "cell_type": "code",
   "execution_count": 16,
   "id": "e927394d",
   "metadata": {},
   "outputs": [
    {
     "name": "stdout",
     "output_type": "stream",
     "text": [
      "Training set\n",
      "0 Class A betalactamases 1105\n",
      "1 Class B betalactamases 286\n",
      "2 Class C betalactamases 665\n",
      "3 Class D betalactamases 630\n",
      "Validation set\n",
      "0 Class A betalactamases 237\n",
      "1 Class B betalactamases 61\n",
      "2 Class C betalactamases 142\n",
      "3 Class D betalactamases 135\n",
      "Test set\n",
      "0 Class A betalactamases 237\n",
      "1 Class B betalactamases 62\n",
      "2 Class C betalactamases 143\n",
      "3 Class D betalactamases 135\n"
     ]
    }
   ],
   "source": [
    "print(\"Training set\")\n",
    "print(\"0\",classA,len(train_x[0]))\n",
    "print(\"1\",classB,len(train_x[1]))\n",
    "print(\"2\",classC,len(train_x[2]))\n",
    "print(\"3\",classD,len(train_x[3]))\n",
    "print(\"Validation set\")\n",
    "print(\"0\",classA,len(valid_x[0]))\n",
    "print(\"1\",classB,len(valid_x[1]))\n",
    "print(\"2\",classC,len(valid_x[2]))\n",
    "print(\"3\",classD,len(valid_x[3]))\n",
    "print(\"Test set\")\n",
    "print(\"0\",classA,len(test_x[0]))\n",
    "print(\"1\",classB,len(test_x[1]))\n",
    "print(\"2\",classC,len(test_x[2]))\n",
    "print(\"3\",classD,len(test_x[3]))"
   ]
  },
  {
   "cell_type": "code",
   "execution_count": 17,
   "id": "9f4ca635",
   "metadata": {},
   "outputs": [],
   "source": [
    "train_set = np.concatenate((train_x[0],train_x[1],train_x[2],train_x[3]))\n",
    "train_target = np.concatenate((train_y[0],train_y[1],train_y[2],train_y[3]))\n",
    "(train_set, train_target) = sklearn.utils.shuffle(train_set, train_target, random_state=0)\n",
    "\n",
    "test_set = np.concatenate((test_x[0],test_x[1],test_x[2],test_x[3]))\n",
    "test_target = np.concatenate((test_y[0],test_y[1],test_y[2],test_y[3]))\n",
    "\n",
    "valid_set = np.concatenate((valid_x[0],valid_x[1],valid_x[2],valid_x[3]))\n",
    "valid_target = np.concatenate((valid_y[0],valid_y[1],valid_y[2],valid_y[3]))\n",
    "\n",
    "train_set_padded = tf.keras.preprocessing.sequence.pad_sequences(train_set, padding=\"post\", maxlen=max_len)\n",
    "test_set_padded = tf.keras.preprocessing.sequence.pad_sequences(test_set, padding=\"post\", maxlen=max_len)\n",
    "valid_set_padded = tf.keras.preprocessing.sequence.pad_sequences(valid_set, padding=\"post\", maxlen=max_len)\n",
    "\n"
   ]
  },
  {
   "cell_type": "code",
   "execution_count": 18,
   "id": "2ef0f796",
   "metadata": {},
   "outputs": [],
   "source": [
    "np.savez(\"MEGARes_dataset_betalactam.npz\", \n",
    "         train_x=train_set_padded, \n",
    "         train_y=train_target, \n",
    "         test_x=test_set_padded, \n",
    "         test_y=test_target, \n",
    "         validation_x=valid_set_padded, \n",
    "         validation_y=valid_target, \n",
    "         header=np.array(header, dtype=object))\n"
   ]
  },
  {
   "cell_type": "markdown",
   "id": "235d265c",
   "metadata": {},
   "source": [
    "# Treino"
   ]
  },
  {
   "cell_type": "code",
   "execution_count": 19,
   "id": "32805305",
   "metadata": {},
   "outputs": [],
   "source": [
    "dataset=np.load('MEGARes_dataset_betalactam.npz', allow_pickle=True)"
   ]
  },
  {
   "cell_type": "code",
   "execution_count": 20,
   "id": "883d7d25",
   "metadata": {
    "scrolled": false
   },
   "outputs": [
    {
     "name": "stdout",
     "output_type": "stream",
     "text": [
      "Model: \"sequential\"\n",
      "_________________________________________________________________\n",
      " Layer (type)                Output Shape              Param #   \n",
      "=================================================================\n",
      " embedding (Embedding)       (None, None, 8)           216       \n",
      "                                                                 \n",
      " lstm (LSTM)                 (None, 32)                5248      \n",
      "                                                                 \n",
      " dense (Dense)               (None, 4)                 132       \n",
      "                                                                 \n",
      " softmax (Softmax)           (None, 4)                 0         \n",
      "                                                                 \n",
      "=================================================================\n",
      "Total params: 5596 (21.86 KB)\n",
      "Trainable params: 5596 (21.86 KB)\n",
      "Non-trainable params: 0 (0.00 Byte)\n",
      "_________________________________________________________________\n",
      "Epoch 1/100\n",
      "84/84 [==============================] - ETA: 0s - loss: 0.8622 - accuracy: 0.6493\n",
      "Epoch 1: saving model to Modelos/cp_betalactam-01.ckpt\n",
      "84/84 [==============================] - 16s 169ms/step - loss: 0.8622 - accuracy: 0.6493 - val_loss: 0.5940 - val_accuracy: 0.8052\n",
      "Epoch 2/100\n",
      "84/84 [==============================] - ETA: 0s - loss: 0.4086 - accuracy: 0.8716\n",
      "Epoch 2: saving model to Modelos/cp_betalactam-02.ckpt\n",
      "84/84 [==============================] - 17s 207ms/step - loss: 0.4086 - accuracy: 0.8716 - val_loss: 0.4078 - val_accuracy: 0.8765\n",
      "Epoch 3/100\n",
      "84/84 [==============================] - ETA: 0s - loss: 0.3040 - accuracy: 0.9054\n",
      "Epoch 3: saving model to Modelos/cp_betalactam-03.ckpt\n",
      "84/84 [==============================] - 19s 227ms/step - loss: 0.3040 - accuracy: 0.9054 - val_loss: 0.2331 - val_accuracy: 0.9165\n",
      "Epoch 4/100\n",
      "84/84 [==============================] - ETA: 0s - loss: 0.2299 - accuracy: 0.9285\n",
      "Epoch 4: saving model to Modelos/cp_betalactam-04.ckpt\n",
      "84/84 [==============================] - 19s 222ms/step - loss: 0.2299 - accuracy: 0.9285 - val_loss: 0.2226 - val_accuracy: 0.9217\n",
      "Epoch 5/100\n",
      "84/84 [==============================] - ETA: 0s - loss: 0.2105 - accuracy: 0.9337\n",
      "Epoch 5: saving model to Modelos/cp_betalactam-05.ckpt\n",
      "84/84 [==============================] - 18s 209ms/step - loss: 0.2105 - accuracy: 0.9337 - val_loss: 0.1951 - val_accuracy: 0.9304\n",
      "Epoch 6/100\n",
      "84/84 [==============================] - ETA: 0s - loss: 0.1665 - accuracy: 0.9438\n",
      "Epoch 6: saving model to Modelos/cp_betalactam-06.ckpt\n",
      "84/84 [==============================] - 17s 206ms/step - loss: 0.1665 - accuracy: 0.9438 - val_loss: 0.1748 - val_accuracy: 0.9530\n",
      "Epoch 7/100\n",
      "84/84 [==============================] - ETA: 0s - loss: 0.2489 - accuracy: 0.9203\n",
      "Epoch 7: saving model to Modelos/cp_betalactam-07.ckpt\n",
      "84/84 [==============================] - 17s 208ms/step - loss: 0.2489 - accuracy: 0.9203 - val_loss: 0.2342 - val_accuracy: 0.9235\n",
      "Epoch 8/100\n",
      "84/84 [==============================] - ETA: 0s - loss: 0.1531 - accuracy: 0.9512\n",
      "Epoch 8: saving model to Modelos/cp_betalactam-08.ckpt\n",
      "84/84 [==============================] - 17s 209ms/step - loss: 0.1531 - accuracy: 0.9512 - val_loss: 0.2014 - val_accuracy: 0.9443\n",
      "Epoch 9/100\n",
      "84/84 [==============================] - ETA: 0s - loss: 0.1264 - accuracy: 0.9598\n",
      "Epoch 9: saving model to Modelos/cp_betalactam-09.ckpt\n",
      "84/84 [==============================] - 18s 214ms/step - loss: 0.1264 - accuracy: 0.9598 - val_loss: 0.1938 - val_accuracy: 0.9426\n",
      "Epoch 10/100\n",
      "84/84 [==============================] - ETA: 0s - loss: 0.1004 - accuracy: 0.9657\n",
      "Epoch 10: saving model to Modelos/cp_betalactam-10.ckpt\n",
      "84/84 [==============================] - 18s 219ms/step - loss: 0.1004 - accuracy: 0.9657 - val_loss: 0.1884 - val_accuracy: 0.9478\n",
      "Epoch 11/100\n",
      "84/84 [==============================] - ETA: 0s - loss: 0.0839 - accuracy: 0.9721\n",
      "Epoch 11: saving model to Modelos/cp_betalactam-11.ckpt\n",
      "84/84 [==============================] - 18s 215ms/step - loss: 0.0839 - accuracy: 0.9721 - val_loss: 0.1865 - val_accuracy: 0.9548\n",
      "Epoch 12/100\n",
      "84/84 [==============================] - ETA: 0s - loss: 0.0660 - accuracy: 0.9777\n",
      "Epoch 12: saving model to Modelos/cp_betalactam-12.ckpt\n",
      "84/84 [==============================] - 18s 213ms/step - loss: 0.0660 - accuracy: 0.9777 - val_loss: 0.1778 - val_accuracy: 0.9496\n",
      "Epoch 13/100\n",
      "84/84 [==============================] - ETA: 0s - loss: 0.0793 - accuracy: 0.9765\n",
      "Epoch 13: saving model to Modelos/cp_betalactam-13.ckpt\n",
      "84/84 [==============================] - 17s 207ms/step - loss: 0.0793 - accuracy: 0.9765 - val_loss: 0.1733 - val_accuracy: 0.9478\n",
      "Epoch 14/100\n",
      "84/84 [==============================] - ETA: 0s - loss: 0.0624 - accuracy: 0.9795\n",
      "Epoch 14: saving model to Modelos/cp_betalactam-14.ckpt\n",
      "84/84 [==============================] - 17s 205ms/step - loss: 0.0624 - accuracy: 0.9795 - val_loss: 0.1823 - val_accuracy: 0.9565\n",
      "Epoch 15/100\n",
      "84/84 [==============================] - ETA: 0s - loss: 0.0799 - accuracy: 0.9769\n",
      "Epoch 15: saving model to Modelos/cp_betalactam-15.ckpt\n",
      "84/84 [==============================] - 17s 207ms/step - loss: 0.0799 - accuracy: 0.9769 - val_loss: 0.1612 - val_accuracy: 0.9496\n",
      "Epoch 16/100\n",
      "84/84 [==============================] - ETA: 0s - loss: 0.0565 - accuracy: 0.9825\n",
      "Epoch 16: saving model to Modelos/cp_betalactam-16.ckpt\n",
      "84/84 [==============================] - 17s 206ms/step - loss: 0.0565 - accuracy: 0.9825 - val_loss: 0.1635 - val_accuracy: 0.9478\n",
      "Epoch 17/100\n",
      "84/84 [==============================] - ETA: 0s - loss: 0.0478 - accuracy: 0.9851\n",
      "Epoch 17: saving model to Modelos/cp_betalactam-17.ckpt\n",
      "84/84 [==============================] - 18s 210ms/step - loss: 0.0478 - accuracy: 0.9851 - val_loss: 0.1703 - val_accuracy: 0.9600\n",
      "Epoch 18/100\n",
      "84/84 [==============================] - ETA: 0s - loss: 0.0351 - accuracy: 0.9896\n",
      "Epoch 18: saving model to Modelos/cp_betalactam-18.ckpt\n",
      "84/84 [==============================] - 17s 203ms/step - loss: 0.0351 - accuracy: 0.9896 - val_loss: 0.1703 - val_accuracy: 0.9583\n",
      "Epoch 19/100\n",
      "84/84 [==============================] - ETA: 0s - loss: 0.0234 - accuracy: 0.9922\n",
      "Epoch 19: saving model to Modelos/cp_betalactam-19.ckpt\n",
      "84/84 [==============================] - 17s 203ms/step - loss: 0.0234 - accuracy: 0.9922 - val_loss: 0.1906 - val_accuracy: 0.9687\n",
      "Epoch 20/100\n",
      "84/84 [==============================] - ETA: 0s - loss: 0.0138 - accuracy: 0.9970\n",
      "Epoch 20: saving model to Modelos/cp_betalactam-20.ckpt\n",
      "84/84 [==============================] - 17s 204ms/step - loss: 0.0138 - accuracy: 0.9970 - val_loss: 0.1966 - val_accuracy: 0.9617\n",
      "Epoch 21/100\n",
      "84/84 [==============================] - ETA: 0s - loss: 0.0119 - accuracy: 0.9981\n",
      "Epoch 21: saving model to Modelos/cp_betalactam-21.ckpt\n",
      "84/84 [==============================] - 17s 204ms/step - loss: 0.0119 - accuracy: 0.9981 - val_loss: 0.2128 - val_accuracy: 0.9617\n",
      "Epoch 22/100\n",
      "84/84 [==============================] - ETA: 0s - loss: 0.0073 - accuracy: 0.9989\n",
      "Epoch 22: saving model to Modelos/cp_betalactam-22.ckpt\n",
      "84/84 [==============================] - 17s 203ms/step - loss: 0.0073 - accuracy: 0.9989 - val_loss: 0.2174 - val_accuracy: 0.9635\n",
      "Epoch 23/100\n",
      "84/84 [==============================] - ETA: 0s - loss: 0.0058 - accuracy: 0.9985\n",
      "Epoch 23: saving model to Modelos/cp_betalactam-23.ckpt\n",
      "84/84 [==============================] - 17s 203ms/step - loss: 0.0058 - accuracy: 0.9985 - val_loss: 0.2309 - val_accuracy: 0.9617\n",
      "Epoch 24/100\n",
      "84/84 [==============================] - ETA: 0s - loss: 0.0045 - accuracy: 0.9993\n",
      "Epoch 24: saving model to Modelos/cp_betalactam-24.ckpt\n",
      "84/84 [==============================] - 17s 204ms/step - loss: 0.0045 - accuracy: 0.9993 - val_loss: 0.2258 - val_accuracy: 0.9617\n"
     ]
    }
   ],
   "source": [
    "model = tf.keras.Sequential()\n",
    "model.add(tf.keras.layers.Embedding(27, output_dim=8, mask_zero=True, embeddings_initializer=\"uniform\"))\n",
    "model.add(tf.keras.layers.LSTM(32))\n",
    "model.add(tf.keras.layers.Dense(4))\n",
    "model.add(tf.keras.layers.Softmax())\n",
    "model.summary()\n",
    "opt = tf.keras.optimizers.Adam(learning_rate=0.01)\n",
    "model.compile(optimizer=opt, loss=\"categorical_crossentropy\", metrics=[\"accuracy\"])\n",
    "\n",
    "model.save('Modelos/model_LSTM.h5')\n",
    "\n",
    "batch_size=32\n",
    "checkpoint_path = \"Modelos/cp_betalactam-{epoch:02d}.ckpt\"\n",
    "checkpoint_dir = os.path.dirname(checkpoint_path)\n",
    "cp_callback = tf.keras.callbacks.ModelCheckpoint(filepath=checkpoint_path,\n",
    "                                                 verbose=1,save_weights_only=True,save_freq='epoch')\n",
    "early_stop = tf.keras.callbacks.EarlyStopping(monitor='val_accuracy', patience=5, restore_best_weights=True, \n",
    "                                              start_from_epoch=0)\n",
    "\n",
    "epchs = 100\n",
    "history = model.fit(dataset.f.train_x, tf.one_hot(dataset.f.train_y,4), epochs=epchs, verbose=1, shuffle=1, \n",
    "                    validation_data=(dataset.f.validation_x,tf.one_hot(dataset.f.validation_y,4)),\n",
    "                    batch_size=batch_size, callbacks=[cp_callback,early_stop])\n",
    "\n",
    "np.save('Modelos/history_betalactam.npy',history.history)\n"
   ]
  },
  {
   "cell_type": "code",
   "execution_count": 21,
   "id": "e78b0d87",
   "metadata": {},
   "outputs": [
    {
     "name": "stdout",
     "output_type": "stream",
     "text": [
      "Max validation accuracy: 0.9686956405639648\n",
      "Epoch 19\n",
      "Validation loss: 0.19063104689121246\n"
     ]
    }
   ],
   "source": [
    "history = np.load('Modelos/history_betalactam.npy', allow_pickle=True)\n",
    "print('Max validation accuracy:',np.max(history.item()['val_accuracy']))\n",
    "arg_val = np.argmax(history.item()['val_accuracy'])\n",
    "print('Epoch',arg_val+1)\n",
    "print('Validation loss:',history.item()['val_loss'][arg_val])\n"
   ]
  },
  {
   "cell_type": "code",
   "execution_count": 22,
   "id": "4a2f6332",
   "metadata": {},
   "outputs": [
    {
     "data": {
      "image/png": "[encoded data removed]",
      "text/plain": [
       "<Figure size 640x480 with 2 Axes>"
      ]
     },
     "metadata": {},
     "output_type": "display_data"
    }
   ],
   "source": [
    "n = len(history.item()['val_accuracy'])\n",
    "\n",
    "plt.figure()\n",
    "plt.subplot(211)\n",
    "plt.title('Validação\\n\\nFunção de perda')\n",
    "plt.plot(list(range(1,n+1)), history.item()['val_loss'][0:n], label='validation loss')\n",
    "plt.xlabel('Epoch')\n",
    "\n",
    "plt.subplot(212)\n",
    "plt.title('Acurácia')\n",
    "plt.plot(list(range(1,n+1)), history.item()['val_accuracy'][0:n], label='validation accuracy')\n",
    "plt.xlabel('Epoch')\n",
    "plt.tight_layout()\n",
    "plt.savefig('Figuras/valid_loss_acc.png')\n",
    "plt.show()\n"
   ]
  },
  {
   "cell_type": "markdown",
   "id": "df03bc36",
   "metadata": {},
   "source": [
    "# Teste"
   ]
  },
  {
   "cell_type": "code",
   "execution_count": 23,
   "id": "88902c25",
   "metadata": {},
   "outputs": [],
   "source": [
    "dataset=np.load('MEGARes_dataset_betalactam.npz', allow_pickle=True)\n",
    "history = np.load('Modelos/history_betalactam.npy', allow_pickle=True)\n",
    "arg_val = np.argmax(history.item()['val_accuracy'])"
   ]
  },
  {
   "cell_type": "code",
   "execution_count": 24,
   "id": "922a0f61",
   "metadata": {},
   "outputs": [],
   "source": [
    "model = tf.keras.models.load_model('Modelos/model_LSTM.h5')\n",
    "# Load weights from Epoch X\n",
    "if arg_val+1 >= 10:\n",
    "    model.load_weights('Modelos/cp_betalactam-%s.ckpt' % (str(arg_val+1)))\n",
    "else:\n",
    "    model.load_weights('Modelos/cp_betalactam-0%s.ckpt' % (str(arg_val+1)))"
   ]
  },
  {
   "cell_type": "code",
   "execution_count": 25,
   "id": "34a63dda",
   "metadata": {},
   "outputs": [
    {
     "name": "stdout",
     "output_type": "stream",
     "text": [
      "19/19 [==============================] - 1s 35ms/step\n",
      "Matriz de confusão\n"
     ]
    },
    {
     "data": {
      "text/plain": [
       "<Figure size 640x480 with 0 Axes>"
      ]
     },
     "metadata": {},
     "output_type": "display_data"
    },
    {
     "data": {
      "image/png": "[encoded data removed]",
      "text/plain": [
       "<Figure size 640x480 with 2 Axes>"
      ]
     },
     "metadata": {},
     "output_type": "display_data"
    }
   ],
   "source": [
    "predictions = model.predict(dataset.f.test_x, verbose=1)\n",
    "\n",
    "print('Matriz de confusão')\n",
    "labels = [classA,classB,classC,classD]\n",
    "labels = ['A','B','C','D']\n",
    "cm = confusion_matrix(dataset.f.test_y, np.argmax(predictions, axis=1))\n",
    "\n",
    "%matplotlib inline\n",
    "plt.figure()\n",
    "disp = ConfusionMatrixDisplay(confusion_matrix=cm, display_labels=labels)\n",
    "disp.plot(cmap='Blues')\n",
    "plt.title('Matriz de confusão')\n",
    "plt.xlabel('Classe prevista')\n",
    "plt.ylabel('Classe verdadeira')\n",
    "plt.savefig('Figuras/cm.png')\n",
    "plt.show()"
   ]
  },
  {
   "cell_type": "code",
   "execution_count": 26,
   "id": "5189c369",
   "metadata": {},
   "outputs": [
    {
     "name": "stdout",
     "output_type": "stream",
     "text": [
      "19/19 [==============================] - 1s 36ms/step - loss: 0.1705 - accuracy: 0.9584\n"
     ]
    },
    {
     "data": {
      "text/plain": [
       "[0.1704988330602646, 0.9584055542945862]"
      ]
     },
     "execution_count": 26,
     "metadata": {},
     "output_type": "execute_result"
    }
   ],
   "source": [
    "model.evaluate(dataset.f.test_x, tf.one_hot(dataset.f.test_y,4), verbose=1)"
   ]
  },
  {
   "cell_type": "code",
   "execution_count": 27,
   "id": "f8072bd2",
   "metadata": {},
   "outputs": [
    {
     "name": "stdout",
     "output_type": "stream",
     "text": [
      "MEGARes\n",
      "              precision    recall  f1-score   support\n",
      "\n",
      "     Class A       0.95      0.98      0.96       237\n",
      "     Class B       0.95      0.87      0.91        62\n",
      "     Class C       0.99      0.96      0.97       143\n",
      "     Class D       0.95      0.96      0.96       135\n",
      "\n",
      "    accuracy                           0.96       577\n",
      "   macro avg       0.96      0.94      0.95       577\n",
      "weighted avg       0.96      0.96      0.96       577\n",
      "\n"
     ]
    }
   ],
   "source": [
    "from sklearn.metrics import classification_report\n",
    "print('MEGARes')\n",
    "print(classification_report(dataset.f.test_y, np.argmax(predictions, axis=1), \n",
    "                            target_names=['Class A', 'Class B', 'Class C', 'Class D']))\n"
   ]
  },
  {
   "cell_type": "markdown",
   "metadata": {},
   "source": [
    "# Baía de Guanabara"
   ]
  },
  {
   "cell_type": "code",
   "execution_count": 28,
   "metadata": {},
   "outputs": [],
   "source": [
    "classA = 'Class A betalactamases'\n",
    "classB = 'Class B betalactamases'\n",
    "classC = 'Class C betalactamases'\n",
    "classD = 'Class D betalactamases'"
   ]
  },
  {
   "cell_type": "code",
   "execution_count": 29,
   "id": "c77fc425",
   "metadata": {},
   "outputs": [
    {
     "data": {
      "text/plain": [
       "907"
      ]
     },
     "execution_count": 29,
     "metadata": {},
     "output_type": "execute_result"
    }
   ],
   "source": [
    "dataset=np.load('MEGARes_dataset_betalactam.npz', allow_pickle=True)\n",
    "header = dataset.f.header\n",
    "max_len = dataset.f.train_x.shape[1]\n",
    "max_len"
   ]
  },
  {
   "cell_type": "code",
   "execution_count": 30,
   "id": "bb7c5d46",
   "metadata": {},
   "outputs": [
    {
     "data": {
      "text/html": [
       "<div>\n",
       "<style scoped>\n",
       "    .dataframe tbody tr th:only-of-type {\n",
       "        vertical-align: middle;\n",
       "    }\n",
       "\n",
       "    .dataframe tbody tr th {\n",
       "        vertical-align: top;\n",
       "    }\n",
       "\n",
       "    .dataframe thead th {\n",
       "        text-align: right;\n",
       "    }\n",
       "</style>\n",
       "<table border=\"1\" class=\"dataframe\">\n",
       "  <thead>\n",
       "    <tr style=\"text-align: right;\">\n",
       "      <th></th>\n",
       "      <th>query_accession</th>\n",
       "      <th>target_accession</th>\n",
       "      <th>sequence_identity</th>\n",
       "      <th>length</th>\n",
       "      <th>mismatches</th>\n",
       "      <th>gap_openings</th>\n",
       "      <th>query_start</th>\n",
       "      <th>query_end</th>\n",
       "      <th>target_start</th>\n",
       "      <th>target_end</th>\n",
       "      <th>e_value</th>\n",
       "      <th>bit_score</th>\n",
       "    </tr>\n",
       "  </thead>\n",
       "  <tbody>\n",
       "    <tr>\n",
       "      <th>0</th>\n",
       "      <td>NODE_1_length_40712_cov_12.792877_17</td>\n",
       "      <td>MEG_7414|Drugs|Glycopeptides|VanB-type_resista...</td>\n",
       "      <td>33.3</td>\n",
       "      <td>231</td>\n",
       "      <td>135</td>\n",
       "      <td>4</td>\n",
       "      <td>64</td>\n",
       "      <td>280</td>\n",
       "      <td>73</td>\n",
       "      <td>298</td>\n",
       "      <td>2.110000e-29</td>\n",
       "      <td>112.0</td>\n",
       "    </tr>\n",
       "    <tr>\n",
       "      <th>1</th>\n",
       "      <td>NODE_1_length_40712_cov_12.792877_17</td>\n",
       "      <td>MEG_7413|Drugs|Glycopeptides|VanB-type_resista...</td>\n",
       "      <td>32.1</td>\n",
       "      <td>252</td>\n",
       "      <td>150</td>\n",
       "      <td>5</td>\n",
       "      <td>45</td>\n",
       "      <td>280</td>\n",
       "      <td>52</td>\n",
       "      <td>298</td>\n",
       "      <td>7.850000e-29</td>\n",
       "      <td>110.0</td>\n",
       "    </tr>\n",
       "    <tr>\n",
       "      <th>2</th>\n",
       "      <td>NODE_1_length_40712_cov_12.792877_17</td>\n",
       "      <td>MEG_7415|Drugs|Glycopeptides|VanB-type_resista...</td>\n",
       "      <td>32.9</td>\n",
       "      <td>231</td>\n",
       "      <td>136</td>\n",
       "      <td>4</td>\n",
       "      <td>64</td>\n",
       "      <td>280</td>\n",
       "      <td>73</td>\n",
       "      <td>298</td>\n",
       "      <td>7.850000e-29</td>\n",
       "      <td>110.0</td>\n",
       "    </tr>\n",
       "    <tr>\n",
       "      <th>3</th>\n",
       "      <td>NODE_1_length_40712_cov_12.792877_17</td>\n",
       "      <td>MEG_7416|Drugs|Glycopeptides|VanB-type_resista...</td>\n",
       "      <td>32.0</td>\n",
       "      <td>231</td>\n",
       "      <td>138</td>\n",
       "      <td>4</td>\n",
       "      <td>64</td>\n",
       "      <td>280</td>\n",
       "      <td>73</td>\n",
       "      <td>298</td>\n",
       "      <td>1.060000e-26</td>\n",
       "      <td>104.0</td>\n",
       "    </tr>\n",
       "    <tr>\n",
       "      <th>4</th>\n",
       "      <td>NODE_1_length_40712_cov_12.792877_17</td>\n",
       "      <td>MEG_7335|Drugs|Glycopeptides|VanA-type_resista...</td>\n",
       "      <td>31.7</td>\n",
       "      <td>252</td>\n",
       "      <td>151</td>\n",
       "      <td>6</td>\n",
       "      <td>45</td>\n",
       "      <td>280</td>\n",
       "      <td>52</td>\n",
       "      <td>298</td>\n",
       "      <td>2.820000e-26</td>\n",
       "      <td>103.0</td>\n",
       "    </tr>\n",
       "    <tr>\n",
       "      <th>...</th>\n",
       "      <td>...</td>\n",
       "      <td>...</td>\n",
       "      <td>...</td>\n",
       "      <td>...</td>\n",
       "      <td>...</td>\n",
       "      <td>...</td>\n",
       "      <td>...</td>\n",
       "      <td>...</td>\n",
       "      <td>...</td>\n",
       "      <td>...</td>\n",
       "      <td>...</td>\n",
       "      <td>...</td>\n",
       "    </tr>\n",
       "    <tr>\n",
       "      <th>196052</th>\n",
       "      <td>NODE_1164114_length_66_cov_9.000000_1</td>\n",
       "      <td>MEG_3984|Drugs|MLS|Macrolide-resistant_23S_rRN...</td>\n",
       "      <td>77.3</td>\n",
       "      <td>22</td>\n",
       "      <td>5</td>\n",
       "      <td>0</td>\n",
       "      <td>1</td>\n",
       "      <td>22</td>\n",
       "      <td>914</td>\n",
       "      <td>935</td>\n",
       "      <td>1.130000e-06</td>\n",
       "      <td>38.9</td>\n",
       "    </tr>\n",
       "    <tr>\n",
       "      <th>196053</th>\n",
       "      <td>NODE_1164116_length_66_cov_9.000000_1</td>\n",
       "      <td>MEG_3988|Drugs|MLS|Macrolide-resistant_23S_rRN...</td>\n",
       "      <td>86.4</td>\n",
       "      <td>22</td>\n",
       "      <td>3</td>\n",
       "      <td>0</td>\n",
       "      <td>1</td>\n",
       "      <td>22</td>\n",
       "      <td>805</td>\n",
       "      <td>826</td>\n",
       "      <td>4.940000e-08</td>\n",
       "      <td>42.7</td>\n",
       "    </tr>\n",
       "    <tr>\n",
       "      <th>196054</th>\n",
       "      <td>NODE_1164116_length_66_cov_9.000000_1</td>\n",
       "      <td>MEG_3982|Drugs|MLS|Macrolide-resistant_23S_rRN...</td>\n",
       "      <td>86.4</td>\n",
       "      <td>22</td>\n",
       "      <td>3</td>\n",
       "      <td>0</td>\n",
       "      <td>1</td>\n",
       "      <td>22</td>\n",
       "      <td>874</td>\n",
       "      <td>895</td>\n",
       "      <td>1.260000e-07</td>\n",
       "      <td>41.6</td>\n",
       "    </tr>\n",
       "    <tr>\n",
       "      <th>196055</th>\n",
       "      <td>NODE_1165304_length_66_cov_3.000000_1</td>\n",
       "      <td>MEG_3988|Drugs|MLS|Macrolide-resistant_23S_rRN...</td>\n",
       "      <td>86.4</td>\n",
       "      <td>22</td>\n",
       "      <td>3</td>\n",
       "      <td>0</td>\n",
       "      <td>1</td>\n",
       "      <td>22</td>\n",
       "      <td>805</td>\n",
       "      <td>826</td>\n",
       "      <td>7.540000e-09</td>\n",
       "      <td>45.1</td>\n",
       "    </tr>\n",
       "    <tr>\n",
       "      <th>196056</th>\n",
       "      <td>NODE_1165304_length_66_cov_3.000000_1</td>\n",
       "      <td>MEG_3982|Drugs|MLS|Macrolide-resistant_23S_rRN...</td>\n",
       "      <td>77.3</td>\n",
       "      <td>22</td>\n",
       "      <td>5</td>\n",
       "      <td>0</td>\n",
       "      <td>1</td>\n",
       "      <td>22</td>\n",
       "      <td>874</td>\n",
       "      <td>895</td>\n",
       "      <td>6.050000e-07</td>\n",
       "      <td>39.7</td>\n",
       "    </tr>\n",
       "  </tbody>\n",
       "</table>\n",
       "<p>196057 rows × 12 columns</p>\n",
       "</div>"
      ],
      "text/plain": [
       "                              query_accession  \\\n",
       "0        NODE_1_length_40712_cov_12.792877_17   \n",
       "1        NODE_1_length_40712_cov_12.792877_17   \n",
       "2        NODE_1_length_40712_cov_12.792877_17   \n",
       "3        NODE_1_length_40712_cov_12.792877_17   \n",
       "4        NODE_1_length_40712_cov_12.792877_17   \n",
       "...                                       ...   \n",
       "196052  NODE_1164114_length_66_cov_9.000000_1   \n",
       "196053  NODE_1164116_length_66_cov_9.000000_1   \n",
       "196054  NODE_1164116_length_66_cov_9.000000_1   \n",
       "196055  NODE_1165304_length_66_cov_3.000000_1   \n",
       "196056  NODE_1165304_length_66_cov_3.000000_1   \n",
       "\n",
       "                                         target_accession  sequence_identity  \\\n",
       "0       MEG_7414|Drugs|Glycopeptides|VanB-type_resista...               33.3   \n",
       "1       MEG_7413|Drugs|Glycopeptides|VanB-type_resista...               32.1   \n",
       "2       MEG_7415|Drugs|Glycopeptides|VanB-type_resista...               32.9   \n",
       "3       MEG_7416|Drugs|Glycopeptides|VanB-type_resista...               32.0   \n",
       "4       MEG_7335|Drugs|Glycopeptides|VanA-type_resista...               31.7   \n",
       "...                                                   ...                ...   \n",
       "196052  MEG_3984|Drugs|MLS|Macrolide-resistant_23S_rRN...               77.3   \n",
       "196053  MEG_3988|Drugs|MLS|Macrolide-resistant_23S_rRN...               86.4   \n",
       "196054  MEG_3982|Drugs|MLS|Macrolide-resistant_23S_rRN...               86.4   \n",
       "196055  MEG_3988|Drugs|MLS|Macrolide-resistant_23S_rRN...               86.4   \n",
       "196056  MEG_3982|Drugs|MLS|Macrolide-resistant_23S_rRN...               77.3   \n",
       "\n",
       "        length  mismatches  gap_openings  query_start  query_end  \\\n",
       "0          231         135             4           64        280   \n",
       "1          252         150             5           45        280   \n",
       "2          231         136             4           64        280   \n",
       "3          231         138             4           64        280   \n",
       "4          252         151             6           45        280   \n",
       "...        ...         ...           ...          ...        ...   \n",
       "196052      22           5             0            1         22   \n",
       "196053      22           3             0            1         22   \n",
       "196054      22           3             0            1         22   \n",
       "196055      22           3             0            1         22   \n",
       "196056      22           5             0            1         22   \n",
       "\n",
       "        target_start  target_end       e_value  bit_score  \n",
       "0                 73         298  2.110000e-29      112.0  \n",
       "1                 52         298  7.850000e-29      110.0  \n",
       "2                 73         298  7.850000e-29      110.0  \n",
       "3                 73         298  1.060000e-26      104.0  \n",
       "4                 52         298  2.820000e-26      103.0  \n",
       "...              ...         ...           ...        ...  \n",
       "196052           914         935  1.130000e-06       38.9  \n",
       "196053           805         826  4.940000e-08       42.7  \n",
       "196054           874         895  1.260000e-07       41.6  \n",
       "196055           805         826  7.540000e-09       45.1  \n",
       "196056           874         895  6.050000e-07       39.7  \n",
       "\n",
       "[196057 rows x 12 columns]"
      ]
     },
     "execution_count": 30,
     "metadata": {},
     "output_type": "execute_result"
    }
   ],
   "source": [
    "df = pd.read_csv('Dados/Diamond/BG_MEGARes_matches.tsv', sep='\\t', header=None)\n",
    "df.columns = ['query_accession','target_accession','sequence_identity','length',\n",
    "              'mismatches','gap_openings','query_start','query_end','target_start',\n",
    "              'target_end','e_value','bit_score']\n",
    "df"
   ]
  },
  {
   "cell_type": "code",
   "execution_count": 31,
   "metadata": {},
   "outputs": [],
   "source": [
    "df_f = df.query('sequence_identity >= 30 and length >= 100')\n",
    "id_ref = []\n",
    "for i in list(df_f['target_accession']):\n",
    "    x1 = i.find(\"|\")\n",
    "    id_ref.append(i[0:x1])\n",
    "    \n",
    "df_f.insert(loc=2, column='id_ref', value= id_ref)  \n"
   ]
  },
  {
   "cell_type": "code",
   "execution_count": 32,
   "metadata": {},
   "outputs": [],
   "source": [
    "ref_0 = header[0]\n",
    "ref_1 = header[1]\n",
    "ref_2 = header[2]\n",
    "ref_3 = header[3]\n",
    "\n",
    "df0 = df_f[df_f.target_accession.isin(ref_0)]\n",
    "df1 = df_f[df_f.target_accession.isin(ref_1)]\n",
    "df2 = df_f[df_f.target_accession.isin(ref_2)]\n",
    "df3 = df_f[df_f.target_accession.isin(ref_3)]"
   ]
  },
  {
   "cell_type": "code",
   "execution_count": 33,
   "metadata": {},
   "outputs": [],
   "source": [
    "query_accession = [list(df0['query_accession']),\n",
    "                   list(df1['query_accession']),\n",
    "                   list(df2['query_accession']),\n",
    "                   list(df3['query_accession'])]\n",
    "\n",
    "query_start = [list(df0.query_start),\n",
    "               list(df1.query_start),\n",
    "               list(df2.query_start),\n",
    "               list(df3.query_start)]\n",
    "query_end = [list(df0.query_end),\n",
    "             list(df1.query_end),\n",
    "             list(df2.query_end),\n",
    "             list(df3.query_end)]\n"
   ]
  },
  {
   "cell_type": "code",
   "execution_count": 34,
   "metadata": {},
   "outputs": [],
   "source": [
    "BG_id = []\n",
    "BG_seq = []\n",
    "\n",
    "file = \"Dados/BG_Prodigal/BG.proteins.faa\"\n",
    "fa = SeqIO.parse(file, \"fasta\")\n",
    "\n",
    "for i in fa:\n",
    "    BG_id.append(i.id)\n",
    "    BG_seq.append(str(i.seq))"
   ]
  },
  {
   "cell_type": "code",
   "execution_count": 35,
   "metadata": {},
   "outputs": [],
   "source": [
    "seq = [[],[],[],[]]\n",
    "seq_id = [[],[],[],[]]\n",
    "k=0\n",
    "for i in range(len(query_accession)):\n",
    "    for j in range(len(query_accession[i])):\n",
    "        if (query_end[i][j]-query_start[i][j]) >= 100 and (query_end[i][j]-query_start[i][j]) < max_len:\n",
    "            if query_accession[i][j] in BG_id:\n",
    "                idx = BG_id.index(query_accession[i][j])\n",
    "                seq[i].append(str(BG_seq[idx][query_start[i][j]:query_end[i][j]]))\n",
    "                seq_id[i].append(str(BG_id[idx]))\n",
    "                k+=1\n",
    "\n",
    "seq_class = [np.zeros(len(seq[0])),\n",
    "             1*np.ones(len(seq[1])),\n",
    "             2*np.ones(len(seq[2])),\n",
    "             3*np.ones(len(seq[3]))]      "
   ]
  },
  {
   "cell_type": "code",
   "execution_count": 36,
   "metadata": {},
   "outputs": [
    {
     "name": "stdout",
     "output_type": "stream",
     "text": [
      "0 Class A betalactamases 85\n",
      "1 Class B betalactamases 236\n",
      "2 Class C betalactamases 602\n",
      "3 Class D betalactamases 41\n"
     ]
    }
   ],
   "source": [
    "print(\"0\",classA,len(seq[0]))\n",
    "print(\"1\",classB,len(seq[1]))\n",
    "print(\"2\",classC,len(seq[2]))\n",
    "print(\"3\",classD,len(seq[3]))"
   ]
  },
  {
   "cell_type": "code",
   "execution_count": 37,
   "metadata": {},
   "outputs": [],
   "source": [
    "seq_code = [[],[],[],[]]\n",
    "seq_len = [[],[],[],[]]\n",
    "for i in range(len(seq)):\n",
    "    seq_code[i],seq_len[i] = letter2code(seq[i])\n"
   ]
  },
  {
   "cell_type": "code",
   "execution_count": 38,
   "metadata": {},
   "outputs": [
    {
     "data": {
      "image/png": "[encoded data removed]",
      "text/plain": [
       "<Figure size 640x480 with 1 Axes>"
      ]
     },
     "metadata": {},
     "output_type": "display_data"
    }
   ],
   "source": [
    "plt.figure()\n",
    "hist = plt.hist(np.concatenate((seq_len[0],seq_len[1],seq_len[2],seq_len[3])),bins=50)\n",
    "plt.xlabel('Tamanho da sequência')\n",
    "plt.ylabel('Quantidade')\n",
    "plt.title('Histograma\\nBaía de Guanabara')\n",
    "plt.savefig(('Figuras/histograma_bg.png'))"
   ]
  },
  {
   "cell_type": "code",
   "execution_count": 39,
   "metadata": {},
   "outputs": [],
   "source": [
    "train_x = [[],[],[],[]]\n",
    "train_y = [[],[],[],[]]\n",
    "test_x = [[],[],[],[]]\n",
    "test_y = [[],[],[],[]]\n",
    "valid_x = [[],[],[],[]]\n",
    "valid_y = [[],[],[],[]]\n",
    " \n",
    "for i in range(len(seq_code)):\n",
    "    train_x[i],train_y[i],test_x[i],test_y[i],valid_x[i],valid_y[i] = split_train_test_valid(seq_code[i],\n",
    "                                                                                             seq_class[i],\n",
    "                                                                                             0.70,0.15)"
   ]
  },
  {
   "cell_type": "code",
   "execution_count": 40,
   "metadata": {},
   "outputs": [
    {
     "name": "stdout",
     "output_type": "stream",
     "text": [
      "Training set\n",
      "0 Class A betalactamases 59\n",
      "1 Class B betalactamases 165\n",
      "2 Class C betalactamases 421\n",
      "3 Class D betalactamases 29\n",
      "Validation set\n",
      "0 Class A betalactamases 13\n",
      "1 Class B betalactamases 35\n",
      "2 Class C betalactamases 90\n",
      "3 Class D betalactamases 6\n",
      "Test set\n",
      "0 Class A betalactamases 13\n",
      "1 Class B betalactamases 36\n",
      "2 Class C betalactamases 91\n",
      "3 Class D betalactamases 6\n"
     ]
    }
   ],
   "source": [
    "print(\"Training set\")\n",
    "print(\"0\",classA,len(train_x[0]))\n",
    "print(\"1\",classB,len(train_x[1]))\n",
    "print(\"2\",classC,len(train_x[2]))\n",
    "print(\"3\",classD,len(train_x[3]))\n",
    "print(\"Validation set\")\n",
    "print(\"0\",classA,len(valid_x[0]))\n",
    "print(\"1\",classB,len(valid_x[1]))\n",
    "print(\"2\",classC,len(valid_x[2]))\n",
    "print(\"3\",classD,len(valid_x[3]))\n",
    "print(\"Test set\")\n",
    "print(\"0\",classA,len(test_x[0]))\n",
    "print(\"1\",classB,len(test_x[1]))\n",
    "print(\"2\",classC,len(test_x[2]))\n",
    "print(\"3\",classD,len(test_x[3]))"
   ]
  },
  {
   "cell_type": "code",
   "execution_count": 41,
   "metadata": {},
   "outputs": [],
   "source": [
    "train_set = np.concatenate((train_x[0],train_x[1],train_x[2],train_x[3]))\n",
    "train_target = np.concatenate((train_y[0],train_y[1],train_y[2],train_y[3]))\n",
    "(train_set, train_target) = sklearn.utils.shuffle(train_set, train_target, random_state=0)\n",
    "\n",
    "test_set = np.concatenate((test_x[0],test_x[1],test_x[2],test_x[3]))\n",
    "test_target = np.concatenate((test_y[0],test_y[1],test_y[2],test_y[3]))\n",
    "\n",
    "valid_set = np.concatenate((valid_x[0],valid_x[1],valid_x[2],valid_x[3]))\n",
    "valid_target = np.concatenate((valid_y[0],valid_y[1],valid_y[2],valid_y[3]))\n",
    "\n",
    "train_set_padded = tf.keras.preprocessing.sequence.pad_sequences(train_set, padding=\"post\", maxlen=max_len)\n",
    "test_set_padded = tf.keras.preprocessing.sequence.pad_sequences(test_set, padding=\"post\", maxlen=max_len)\n",
    "valid_set_padded = tf.keras.preprocessing.sequence.pad_sequences(valid_set, padding=\"post\", maxlen=max_len)\n"
   ]
  },
  {
   "cell_type": "code",
   "execution_count": 42,
   "metadata": {},
   "outputs": [],
   "source": [
    "np.savez(\"BG_dataset_betalactam.npz\", \n",
    "         train_x=train_set_padded,\n",
    "         train_y=train_target, \n",
    "         test_x=test_set_padded, \n",
    "         test_y=test_target,\n",
    "         validation_x=valid_set_padded, \n",
    "         validation_y=valid_target)"
   ]
  },
  {
   "cell_type": "code",
   "execution_count": null,
   "metadata": {},
   "outputs": [],
   "source": []
  },
  {
   "cell_type": "markdown",
   "metadata": {},
   "source": [
    "# Transferência de aprendizado"
   ]
  },
  {
   "cell_type": "code",
   "execution_count": 43,
   "metadata": {},
   "outputs": [],
   "source": [
    "BG_dataset = np.load('BG_dataset_betalactam.npz', allow_pickle=True)"
   ]
  },
  {
   "cell_type": "code",
   "execution_count": 44,
   "metadata": {},
   "outputs": [
    {
     "data": {
      "text/plain": [
       "(674, 907)"
      ]
     },
     "execution_count": 44,
     "metadata": {},
     "output_type": "execute_result"
    }
   ],
   "source": [
    "BG_dataset.f.train_x.shape"
   ]
  },
  {
   "cell_type": "code",
   "execution_count": 45,
   "metadata": {},
   "outputs": [
    {
     "name": "stdout",
     "output_type": "stream",
     "text": [
      "Min validation loss: 0.5939855575561523\n",
      "Epoch 15\n",
      "Validation accuracy: 0.9495652318000793\n"
     ]
    }
   ],
   "source": [
    "model = tf.keras.models.load_model('Modelos/model_LSTM.h5')\n",
    "history = np.load('Modelos/history_betalactam.npy', allow_pickle=True)\n",
    "print('Min validation loss:',np.max(history.item()['val_loss']))\n",
    "arg_val = np.argmin(history.item()['val_loss'])\n",
    "print('Epoch',arg_val+1)\n",
    "print('Validation accuracy:',history.item()['val_accuracy'][arg_val])\n",
    "\n",
    "if arg_val+1 >= 10:\n",
    "    model.load_weights('Modelos/cp_betalactam-%s.ckpt' % (str(arg_val+1)))\n",
    "else:\n",
    "    model.load_weights('Modelos/cp_betalactam-0%s.ckpt' % (str(arg_val+1)))"
   ]
  },
  {
   "cell_type": "code",
   "execution_count": 46,
   "metadata": {},
   "outputs": [
    {
     "name": "stdout",
     "output_type": "stream",
     "text": [
      "Epoch 1/100\n",
      "22/22 [==============================] - ETA: 0s - loss: 1.2835 - accuracy: 0.5653\n",
      "Epoch 1: saving model to Modelos/cp1_betalactam-01.ckpt\n",
      "22/22 [==============================] - 7s 235ms/step - loss: 1.2835 - accuracy: 0.5653 - val_loss: 0.7782 - val_accuracy: 0.6944\n",
      "Epoch 2/100\n",
      "22/22 [==============================] - ETA: 0s - loss: 0.5742 - accuracy: 0.7834\n",
      "Epoch 2: saving model to Modelos/cp1_betalactam-02.ckpt\n",
      "22/22 [==============================] - 4s 202ms/step - loss: 0.5742 - accuracy: 0.7834 - val_loss: 0.5632 - val_accuracy: 0.8472\n",
      "Epoch 3/100\n",
      "22/22 [==============================] - ETA: 0s - loss: 0.4309 - accuracy: 0.8605\n",
      "Epoch 3: saving model to Modelos/cp1_betalactam-03.ckpt\n",
      "22/22 [==============================] - 4s 199ms/step - loss: 0.4309 - accuracy: 0.8605 - val_loss: 0.5283 - val_accuracy: 0.8403\n",
      "Epoch 4/100\n",
      "22/22 [==============================] - ETA: 0s - loss: 0.3228 - accuracy: 0.8961\n",
      "Epoch 4: saving model to Modelos/cp1_betalactam-04.ckpt\n",
      "22/22 [==============================] - 4s 199ms/step - loss: 0.3228 - accuracy: 0.8961 - val_loss: 0.5017 - val_accuracy: 0.8264\n",
      "Epoch 5/100\n",
      "22/22 [==============================] - ETA: 0s - loss: 0.2676 - accuracy: 0.9154\n",
      "Epoch 5: saving model to Modelos/cp1_betalactam-05.ckpt\n",
      "22/22 [==============================] - 4s 201ms/step - loss: 0.2676 - accuracy: 0.9154 - val_loss: 0.4122 - val_accuracy: 0.8611\n",
      "Epoch 6/100\n",
      "22/22 [==============================] - ETA: 0s - loss: 0.2103 - accuracy: 0.9288\n",
      "Epoch 6: saving model to Modelos/cp1_betalactam-06.ckpt\n",
      "22/22 [==============================] - 4s 204ms/step - loss: 0.2103 - accuracy: 0.9288 - val_loss: 0.3865 - val_accuracy: 0.8681\n",
      "Epoch 7/100\n",
      "22/22 [==============================] - ETA: 0s - loss: 0.1696 - accuracy: 0.9466\n",
      "Epoch 7: saving model to Modelos/cp1_betalactam-07.ckpt\n",
      "22/22 [==============================] - 4s 185ms/step - loss: 0.1696 - accuracy: 0.9466 - val_loss: 0.4201 - val_accuracy: 0.8681\n",
      "Epoch 8/100\n",
      "22/22 [==============================] - ETA: 0s - loss: 0.2298 - accuracy: 0.9214\n",
      "Epoch 8: saving model to Modelos/cp1_betalactam-08.ckpt\n",
      "22/22 [==============================] - 4s 188ms/step - loss: 0.2298 - accuracy: 0.9214 - val_loss: 0.3695 - val_accuracy: 0.8750\n",
      "Epoch 9/100\n",
      "22/22 [==============================] - ETA: 0s - loss: 0.1570 - accuracy: 0.9525\n",
      "Epoch 9: saving model to Modelos/cp1_betalactam-09.ckpt\n",
      "22/22 [==============================] - 4s 190ms/step - loss: 0.1570 - accuracy: 0.9525 - val_loss: 0.3182 - val_accuracy: 0.9028\n",
      "Epoch 10/100\n",
      "22/22 [==============================] - ETA: 0s - loss: 0.1143 - accuracy: 0.9614\n",
      "Epoch 10: saving model to Modelos/cp1_betalactam-10.ckpt\n",
      "22/22 [==============================] - 4s 186ms/step - loss: 0.1143 - accuracy: 0.9614 - val_loss: 0.3161 - val_accuracy: 0.8958\n",
      "Epoch 11/100\n",
      "22/22 [==============================] - ETA: 0s - loss: 0.0861 - accuracy: 0.9748\n",
      "Epoch 11: saving model to Modelos/cp1_betalactam-11.ckpt\n",
      "22/22 [==============================] - 4s 192ms/step - loss: 0.0861 - accuracy: 0.9748 - val_loss: 0.3009 - val_accuracy: 0.9097\n",
      "Epoch 12/100\n",
      "22/22 [==============================] - ETA: 0s - loss: 0.0703 - accuracy: 0.9852\n",
      "Epoch 12: saving model to Modelos/cp1_betalactam-12.ckpt\n",
      "22/22 [==============================] - 4s 187ms/step - loss: 0.0703 - accuracy: 0.9852 - val_loss: 0.3109 - val_accuracy: 0.9028\n",
      "Epoch 13/100\n",
      "22/22 [==============================] - ETA: 0s - loss: 0.0680 - accuracy: 0.9807\n",
      "Epoch 13: saving model to Modelos/cp1_betalactam-13.ckpt\n",
      "22/22 [==============================] - 4s 189ms/step - loss: 0.0680 - accuracy: 0.9807 - val_loss: 0.3108 - val_accuracy: 0.9028\n",
      "Epoch 14/100\n",
      "22/22 [==============================] - ETA: 0s - loss: 0.0582 - accuracy: 0.9822\n",
      "Epoch 14: saving model to Modelos/cp1_betalactam-14.ckpt\n",
      "22/22 [==============================] - 4s 188ms/step - loss: 0.0582 - accuracy: 0.9822 - val_loss: 0.3045 - val_accuracy: 0.9097\n",
      "Epoch 15/100\n",
      "22/22 [==============================] - ETA: 0s - loss: 0.0517 - accuracy: 0.9822\n",
      "Epoch 15: saving model to Modelos/cp1_betalactam-15.ckpt\n",
      "22/22 [==============================] - 4s 188ms/step - loss: 0.0517 - accuracy: 0.9822 - val_loss: 0.3181 - val_accuracy: 0.9167\n",
      "Epoch 16/100\n",
      "22/22 [==============================] - ETA: 0s - loss: 0.0522 - accuracy: 0.9807\n",
      "Epoch 16: saving model to Modelos/cp1_betalactam-16.ckpt\n",
      "22/22 [==============================] - 4s 191ms/step - loss: 0.0522 - accuracy: 0.9807 - val_loss: 0.3351 - val_accuracy: 0.9167\n",
      "Epoch 17/100\n",
      "22/22 [==============================] - ETA: 0s - loss: 0.0556 - accuracy: 0.9852\n",
      "Epoch 17: saving model to Modelos/cp1_betalactam-17.ckpt\n",
      "22/22 [==============================] - 4s 184ms/step - loss: 0.0556 - accuracy: 0.9852 - val_loss: 0.3290 - val_accuracy: 0.9097\n",
      "Epoch 18/100\n",
      "22/22 [==============================] - ETA: 0s - loss: 0.0463 - accuracy: 0.9837\n",
      "Epoch 18: saving model to Modelos/cp1_betalactam-18.ckpt\n",
      "22/22 [==============================] - 4s 186ms/step - loss: 0.0463 - accuracy: 0.9837 - val_loss: 0.3571 - val_accuracy: 0.9097\n",
      "Epoch 19/100\n",
      "22/22 [==============================] - ETA: 0s - loss: 0.0409 - accuracy: 0.9866\n",
      "Epoch 19: saving model to Modelos/cp1_betalactam-19.ckpt\n",
      "22/22 [==============================] - 4s 189ms/step - loss: 0.0409 - accuracy: 0.9866 - val_loss: 0.3602 - val_accuracy: 0.9097\n",
      "Epoch 20/100\n",
      "22/22 [==============================] - ETA: 0s - loss: 0.0420 - accuracy: 0.9866\n",
      "Epoch 20: saving model to Modelos/cp1_betalactam-20.ckpt\n",
      "22/22 [==============================] - 4s 186ms/step - loss: 0.0420 - accuracy: 0.9866 - val_loss: 0.3696 - val_accuracy: 0.9097\n"
     ]
    }
   ],
   "source": [
    "batch_size=32\n",
    "checkpoint_path = \"Modelos/cp1_betalactam-{epoch:02d}.ckpt\"\n",
    "checkpoint_dir = os.path.dirname(checkpoint_path)\n",
    "cp_callback = tf.keras.callbacks.ModelCheckpoint(filepath=checkpoint_path,\n",
    "                                                 verbose=1,save_weights_only=True,save_freq='epoch')\n",
    "early_stop = tf.keras.callbacks.EarlyStopping(monitor='val_accuracy', patience=5, restore_best_weights=True, \n",
    "                                              start_from_epoch=0)\n",
    "\n",
    "epchs = 100\n",
    "history = model.fit(BG_dataset.f.train_x, tf.one_hot(BG_dataset.f.train_y,4), epochs=epchs, verbose=1, shuffle=1, \n",
    "                    validation_data=(BG_dataset.f.validation_x,tf.one_hot(BG_dataset.f.validation_y,4)),\n",
    "                    batch_size=batch_size, callbacks=[cp_callback,early_stop])\n",
    "\n",
    "np.save('Modelos/history1_betalactam.npy',history.history)"
   ]
  },
  {
   "cell_type": "code",
   "execution_count": 47,
   "metadata": {},
   "outputs": [
    {
     "name": "stdout",
     "output_type": "stream",
     "text": [
      "Max validation accuracy: 0.9166666865348816\n",
      "Epoch 15\n",
      "Validation loss: 0.31807181239128113\n"
     ]
    }
   ],
   "source": [
    "history = np.load('Modelos/history1_betalactam.npy', allow_pickle=True)\n",
    "print('Max validation accuracy:',np.max(history.item()['val_accuracy']))\n",
    "arg_val = np.argmax(history.item()['val_accuracy'])\n",
    "print('Epoch',arg_val+1)\n",
    "print('Validation loss:',history.item()['val_loss'][arg_val])"
   ]
  },
  {
   "cell_type": "code",
   "execution_count": 48,
   "metadata": {},
   "outputs": [
    {
     "data": {
      "image/png": "[encoded data removed]",
      "text/plain": [
       "<Figure size 640x480 with 2 Axes>"
      ]
     },
     "metadata": {},
     "output_type": "display_data"
    }
   ],
   "source": [
    "n = len(history.item()['val_accuracy'])\n",
    "\n",
    "plt.figure()\n",
    "plt.subplot(211)\n",
    "plt.title('Transferência de aprendizado - Validação\\n\\nFunção de perda')\n",
    "plt.plot(list(range(1,n+1)), history.item()['val_loss'][0:n], label='validation loss')\n",
    "plt.xlabel('Epoch')\n",
    "\n",
    "plt.subplot(212)\n",
    "plt.title('Acurácia')\n",
    "plt.plot(list(range(1,n+1)), history.item()['val_accuracy'][0:n], label='validation accuracy')\n",
    "plt.xlabel('Epoch')\n",
    "plt.tight_layout()\n",
    "plt.savefig('Figuras/valid_loss_acc1.png')\n",
    "plt.show()"
   ]
  },
  {
   "cell_type": "markdown",
   "metadata": {},
   "source": [
    "# Teste - Baía de Guanabara"
   ]
  },
  {
   "cell_type": "code",
   "execution_count": 49,
   "metadata": {},
   "outputs": [],
   "source": [
    "model = tf.keras.models.load_model('Modelos/model_LSTM.h5')\n",
    "history = np.load('Modelos/history_betalactam.npy', allow_pickle=True)\n",
    "arg_val = np.argmax(history.item()['val_accuracy'])\n",
    "\n",
    "if arg_val+1 >= 10:\n",
    "    model.load_weights('Modelos/cp1_betalactam-%s.ckpt' % (str(arg_val+1)))\n",
    "else:\n",
    "    model.load_weights('Modelos/cp1_betalactam-0%s.ckpt' % (str(arg_val+1)))\n"
   ]
  },
  {
   "cell_type": "code",
   "execution_count": 50,
   "metadata": {},
   "outputs": [
    {
     "name": "stdout",
     "output_type": "stream",
     "text": [
      "5/5 [==============================] - 1s 35ms/step\n",
      "Matriz de confusão\n"
     ]
    },
    {
     "data": {
      "text/plain": [
       "<Figure size 640x480 with 0 Axes>"
      ]
     },
     "metadata": {},
     "output_type": "display_data"
    },
    {
     "data": {
      "image/png": "[encoded data removed]",
      "text/plain": [
       "<Figure size 640x480 with 2 Axes>"
      ]
     },
     "metadata": {},
     "output_type": "display_data"
    }
   ],
   "source": [
    "predictions = model.predict(BG_dataset.f.test_x, verbose=1)\n",
    "\n",
    "print('Matriz de confusão')\n",
    "labels = [classA,classB,classC,classD]\n",
    "labels = ['A','B','C','D']\n",
    "cm = confusion_matrix(BG_dataset.f.test_y, np.argmax(predictions, axis=1))\n",
    "\n",
    "%matplotlib  inline\n",
    "plt.figure()\n",
    "disp = ConfusionMatrixDisplay(confusion_matrix=cm, display_labels=labels)\n",
    "disp.plot(cmap='Blues')\n",
    "plt.title('Baía de Guanabara\\n\\nMatriz de confusão')\n",
    "plt.xlabel('Classe prevista')\n",
    "plt.ylabel('Classe verdadeira')\n",
    "plt.savefig('Figuras/cm_BG.png')\n",
    "plt.show()"
   ]
  },
  {
   "cell_type": "code",
   "execution_count": 51,
   "metadata": {},
   "outputs": [
    {
     "name": "stdout",
     "output_type": "stream",
     "text": [
      "5/5 [==============================] - 1s 38ms/step - loss: 0.2679 - accuracy: 0.9178\n"
     ]
    },
    {
     "data": {
      "text/plain": [
       "[0.2679135501384735, 0.9178082346916199]"
      ]
     },
     "execution_count": 51,
     "metadata": {},
     "output_type": "execute_result"
    }
   ],
   "source": [
    "model.evaluate(BG_dataset.f.test_x, tf.one_hot(BG_dataset.f.test_y,4), verbose=1)"
   ]
  },
  {
   "cell_type": "code",
   "execution_count": 52,
   "metadata": {},
   "outputs": [
    {
     "name": "stdout",
     "output_type": "stream",
     "text": [
      "MEGARes and BG\n",
      "              precision    recall  f1-score   support\n",
      "\n",
      "     Class A       0.67      0.62      0.64        13\n",
      "     Class B       0.85      0.94      0.89        36\n",
      "     Class C       0.98      0.95      0.96        91\n",
      "     Class D       1.00      1.00      1.00         6\n",
      "\n",
      "    accuracy                           0.92       146\n",
      "   macro avg       0.87      0.88      0.87       146\n",
      "weighted avg       0.92      0.92      0.92       146\n",
      "\n"
     ]
    }
   ],
   "source": [
    "from sklearn.metrics import classification_report\n",
    "print('MEGARes and BG')\n",
    "print(classification_report(BG_dataset.f.test_y, np.argmax(predictions, axis=1), \n",
    "                            target_names=['Class A', 'Class B', 'Class C', 'Class D']))"
   ]
  }
 ],
 "metadata": {
  "kernelspec": {
   "display_name": "Python 3 (ipykernel)",
   "language": "python",
   "name": "python3"
  },
  "language_info": {
   "codemirror_mode": {
    "name": "ipython",
    "version": 3
   },
   "file_extension": ".py",
   "mimetype": "text/x-python",
   "name": "python",
   "nbconvert_exporter": "python",
   "pygments_lexer": "ipython3",
   "version": "3.10.12"
  }
 },
 "nbformat": 4,
 "nbformat_minor": 5
}
